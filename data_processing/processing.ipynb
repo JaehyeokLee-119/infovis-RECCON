{
 "cells": [
  {
   "cell_type": "code",
   "execution_count": null,
   "metadata": {},
   "outputs": [],
   "source": []
  },
  {
   "cell_type": "code",
   "execution_count": 26,
   "metadata": {},
   "outputs": [],
   "source": [
    "import json\n",
    "import os\n",
    "import numpy as np\n",
    "import pandas as pd\n",
    "\n",
    "emotion_label_policy = {'angry': 0, 'anger': 0,\n",
    "    'disgust': 1,\n",
    "    'fear': 2,\n",
    "    'happy': 3, 'happines': 3, 'happiness': 3, \n",
    "    'sad': 4, 'sadness': 4,\n",
    "    'surprise': 5, 'surprised': 5, \n",
    "    'neutral': 6,\n",
    "    'excited': 7,\n",
    "    'frustrated': 8,}\n",
    "\n",
    "emotion_label_num_to_emotion = ['angry', 'disgust', 'fear', 'happy', 'sad', 'surprise', 'neutral', 'excited', 'frustrated']"
   ]
  },
  {
   "cell_type": "code",
   "execution_count": 27,
   "metadata": {},
   "outputs": [],
   "source": [
    "# json 데이터셋 파일 열기\n",
    "datasets = ['../dataset/dailydialog_train.json', '../dataset/dailydialog_valid.json', '../dataset/dailydialog_test.json']\n",
    "\n",
    "# 각 데이터셋의 데이터를 하나의 리스트로 합치기\n",
    "with open(datasets[0], 'r', encoding='utf-8') as f:\n",
    "    train = json.load(f)\n",
    "with open(datasets[1], 'r', encoding='utf-8') as f:\n",
    "    valid = json.load(f)\n",
    "with open(datasets[2], 'r', encoding='utf-8') as f:\n",
    "    test = json.load(f)\n",
    "\n",
    "# concate 3 dictionaries \n",
    "valid.update(test)\n",
    "train.update(valid)\n",
    "total_data = train\n",
    "\n",
    "# dataset 폴더에 'dailydialog_total.json' 파일이 없으면, total_data를 json 파일로 저장\n",
    "if not os.path.isfile('../dataset/dailydialog_total.json'):\n",
    "    with open('../dataset/dailydialog_total.json', 'w', encoding='utf-8') as f:\n",
    "        json.dump(total_data, f, ensure_ascii=False, indent='\\t')\n",
    "        \n",
    "dialog_ids = list(total_data.keys())"
   ]
  },
  {
   "attachments": {},
   "cell_type": "markdown",
   "metadata": {},
   "source": [
    "## Dialog_table_dict 만드는 코드"
   ]
  },
  {
   "cell_type": "code",
   "execution_count": 148,
   "metadata": {},
   "outputs": [],
   "source": [
    "# table1_columns = ['dialog_id', 'emotion', 'num_utterances']\n",
    "table_columns = ['dialog_id', 'turn', 'speaker', 'utterance', 'emotion', 'cause turn', 'cause span', 'cause_type', 'explanation']\n",
    "\n",
    "# 각 dialog가 들어갈 table 선언하고 내용물 채우기 (column은 table_columns)\n",
    "# key는 dialog_id와 uid의 조합\n",
    "# value는 speaker, utterance, emotion, cause turn, cause span\n",
    "# table: dialog_id, uid, speaker, utterance, emotion, cause turn, cause span\n",
    "\n",
    "# 각 row를 저장할 데이터프레임\n",
    "dialog_table_all = pd.DataFrame(columns=table_columns)\n",
    "for dialog_id in total_data.keys():\n",
    "    dialog = total_data[dialog_id][0]\n",
    "    for utterance in dialog:\n",
    "        turn = utterance['turn']\n",
    "        uid = f'{dialog_id}_{turn}'\n",
    "        \n",
    "        utterance['emotion'] = emotion_label_num_to_emotion[emotion_label_policy[utterance['emotion']]]\n",
    "        if utterance['emotion'] != 'neutral':\n",
    "            if 'explanation' in utterance.keys():\n",
    "                row = pd.DataFrame([[dialog_id, turn, utterance['speaker'], utterance['utterance'], utterance['emotion'], \\\n",
    "                    utterance['expanded emotion cause evidence'], utterance['expanded emotion cause span'], utterance['type'], utterance['explanation']]], columns=table_columns)\n",
    "            else:\n",
    "                row = pd.DataFrame([[dialog_id, turn, utterance['speaker'], utterance['utterance'], utterance['emotion'], \\\n",
    "                    utterance['expanded emotion cause evidence'], utterance['expanded emotion cause span'], utterance['type'], '']], columns=table_columns)\n",
    "                \n",
    "        else:\n",
    "            row = pd.DataFrame([[dialog_id, turn, utterance['speaker'], utterance['utterance'], utterance['emotion'], '', '', '', '']], columns=table_columns)\n",
    "        dialog_table_all = pd.concat([dialog_table_all, row], ignore_index=True)\n",
    "        \n",
    "        \n",
    "    # table1: dialog_id, emotion, num_utterances\n",
    "\n",
    "dialog_table_dict = {}\n",
    "for dialog_id in total_data.keys():\n",
    "    dialog_table_dict[dialog_id] = dialog_table_all[dialog_table_all['dialog_id'] == dialog_id]\n"
   ]
  },
  {
   "attachments": {},
   "cell_type": "markdown",
   "metadata": {},
   "source": [
    "## Dialog_table 만드는 코드"
   ]
  },
  {
   "cell_type": "code",
   "execution_count": 171,
   "metadata": {},
   "outputs": [],
   "source": [
    "# dialog의 각 감정, dialog의 길이에 따라서 dialog 단위로 attribute를 설정\n",
    "dialog_table_dict.keys()\n",
    "\n",
    "table_columns = ['dialog_id', 'emotion', 'len']\n",
    "dialog_table = pd.DataFrame(columns=table_columns)\n",
    "\n",
    "for dialog_id in dialog_table_dict.keys():\n",
    "    dialog = dialog_table_dict[dialog_id]\n",
    "    # emotion은 dialog['emotion']의 최빈값 중 neutral이 아닌 값으로 정함\n",
    "    emotion = 'neutral'\n",
    "    for emotion_appearance in dialog['emotion'].value_counts().index:\n",
    "        if emotion_appearance == 'neutral':\n",
    "            continue\n",
    "        if emotion_appearance != 'neutral':\n",
    "            emotion = emotion_appearance#dialog['emotion'].value_counts().index[0]\n",
    "            break\n",
    "    # emotion = dialog['emotion'].value_counts().index[0]\n",
    "    len_ = len(dialog)\n",
    "    row = pd.DataFrame([[dialog_id, emotion, len_]], columns=table_columns)\n",
    "    dialog_table = pd.concat([dialog_table, row], ignore_index=True)"
   ]
  },
  {
   "cell_type": "code",
   "execution_count": 172,
   "metadata": {},
   "outputs": [],
   "source": [
    "# dialog_table_dict를 펴서 하나의 DataFrame으로 만들기\n",
    "table_columns = ['dialog_id', 'turn', 'speaker', 'utterance', 'emotion', 'cause turn', 'cause span', 'cause_type', 'explanation']\n",
    "dialog_table_all = pd.DataFrame(columns=table_columns)\n",
    "for dialog_id in dialog_table_dict.keys():\n",
    "    dialog_table_all = pd.concat([dialog_table_all, dialog_table_dict[dialog_id]], ignore_index=True)"
   ]
  },
  {
   "attachments": {},
   "cell_type": "markdown",
   "metadata": {},
   "source": [
    "## 정리한 데이터\n",
    "<b><i>dialog_table_dict</i></b>: dialog_id를 key로 갖는 dictionary. 각 dialog는 DataFrame 형태로 utterance들을 가짐  <br>\n",
    "<b><i>dialog_table</i></b>: DataFrame 타입. Dialog 단위로 (dialog_id, emotion(neutral제외), 대화길이(발화수))를 가짐 <br>"
   ]
  },
  {
   "cell_type": "code",
   "execution_count": 28,
   "metadata": {},
   "outputs": [
    {
     "ename": "NameError",
     "evalue": "name 'dialog_table_dict' is not defined",
     "output_type": "error",
     "traceback": [
      "\u001b[1;31m---------------------------------------------------------------------------\u001b[0m",
      "\u001b[1;31mNameError\u001b[0m                                 Traceback (most recent call last)",
      "\u001b[1;32m~\\AppData\\Local\\Temp\\ipykernel_11028\\3454939645.py\u001b[0m in \u001b[0;36m<module>\u001b[1;34m\u001b[0m\n\u001b[1;32m----> 1\u001b[1;33m \u001b[0mdialog_table_dict\u001b[0m\u001b[1;33m[\u001b[0m\u001b[1;34m'tr_4466'\u001b[0m\u001b[1;33m]\u001b[0m\u001b[1;33m\u001b[0m\u001b[1;33m\u001b[0m\u001b[0m\n\u001b[0m",
      "\u001b[1;31mNameError\u001b[0m: name 'dialog_table_dict' is not defined"
     ]
    }
   ],
   "source": [
    "dialog_table_dict['tr_4466']"
   ]
  },
  {
   "cell_type": "code",
   "execution_count": 174,
   "metadata": {},
   "outputs": [
    {
     "data": {
      "text/plain": [
       "happy       789\n",
       "angry       115\n",
       "sad          83\n",
       "surprise     69\n",
       "disgust      34\n",
       "fear         16\n",
       "Name: emotion, dtype: int64"
      ]
     },
     "execution_count": 174,
     "metadata": {},
     "output_type": "execute_result"
    }
   ],
   "source": [
    "# table['emotion']의 분포를 보기\n",
    "dialog_table['emotion'].value_counts()"
   ]
  },
  {
   "cell_type": "code",
   "execution_count": 175,
   "metadata": {},
   "outputs": [
    {
     "data": {
      "text/plain": [
       "pandas.core.frame.DataFrame"
      ]
     },
     "execution_count": 175,
     "metadata": {},
     "output_type": "execute_result"
    }
   ],
   "source": [
    "type(dialog_table_all)"
   ]
  },
  {
   "cell_type": "code",
   "execution_count": 188,
   "metadata": {},
   "outputs": [],
   "source": [
    "# 정리한 데이터를 csv로 저장\n",
    "# 공백 줄 없이\n",
    "\n",
    "with open('../dataset/dailydialog_table_all_before_processed.csv', 'w', encoding='utf-8') as f:\n",
    "    dialog_table_all.to_csv(f, index=False)\n",
    "with open('../dataset/dailydialog_table_before_processed.csv', 'w', encoding='utf-8') as f:\n",
    "    dialog_table.to_csv(f, index=False)"
   ]
  },
  {
   "cell_type": "code",
   "execution_count": 25,
   "metadata": {},
   "outputs": [
    {
     "ename": "NameError",
     "evalue": "name 'dialog_table' is not defined",
     "output_type": "error",
     "traceback": [
      "\u001b[1;31m---------------------------------------------------------------------------\u001b[0m",
      "\u001b[1;31mNameError\u001b[0m                                 Traceback (most recent call last)",
      "\u001b[1;32m~\\AppData\\Local\\Temp\\ipykernel_11028\\2219605632.py\u001b[0m in \u001b[0;36m<module>\u001b[1;34m\u001b[0m\n\u001b[1;32m----> 1\u001b[1;33m \u001b[0mdialog_table\u001b[0m\u001b[1;33m\u001b[0m\u001b[1;33m\u001b[0m\u001b[0m\n\u001b[0m",
      "\u001b[1;31mNameError\u001b[0m: name 'dialog_table' is not defined"
     ]
    }
   ],
   "source": [
    "dialog_table"
   ]
  },
  {
   "cell_type": "code",
   "execution_count": 190,
   "metadata": {},
   "outputs": [],
   "source": [
    "path_list = ['../dataset/dailydialog_table_before_processed.csv', '../dataset/dailydialog_table_all_before_processed.csv']\n",
    "output_path = ['../dataset/dailydialog_table.csv', '../dataset/dailydialog_table_all.csv']\n",
    "\n",
    "# 텍스트 파일을 불러와서 짝수 번째 줄을 제거하고 다시 저장하는 코드\n",
    "for path, output_path in zip(path_list, output_path):\n",
    "    all_lines = ''\n",
    "    with open(path, 'r', encoding='utf-8') as f:\n",
    "        lines = f.readlines()\n",
    "    # lines의 짝수 번째를 제거\n",
    "    for i in range(len(lines)):\n",
    "        if i % 2 == 0:\n",
    "            all_lines += lines[i]\n",
    "    with open(output_path, 'w', encoding='utf-8') as f:\n",
    "        f.write(all_lines)"
   ]
  },
  {
   "cell_type": "code",
   "execution_count": 22,
   "metadata": {},
   "outputs": [
    {
     "name": "stderr",
     "output_type": "stream",
     "text": [
      "C:\\Users\\Admin\\AppData\\Local\\Temp\\ipykernel_11028\\2479855666.py:16: SettingWithCopyWarning: \n",
      "A value is trying to be set on a copy of a slice from a DataFrame\n",
      "\n",
      "See the caveats in the documentation: https://pandas.pydata.org/pandas-docs/stable/user_guide/indexing.html#returning-a-view-versus-a-copy\n",
      "  df['utterance'][j] = re.sub(r'\\s+([.,!?])', r'\\1', df['utterance'][j])\n",
      "C:\\Users\\Admin\\AppData\\Local\\Temp\\ipykernel_11028\\2479855666.py:24: SettingWithCopyWarning: \n",
      "A value is trying to be set on a copy of a slice from a DataFrame\n",
      "\n",
      "See the caveats in the documentation: https://pandas.pydata.org/pandas-docs/stable/user_guide/indexing.html#returning-a-view-versus-a-copy\n",
      "  df['cause span'][j] = ','.join(cause_span)\n"
     ]
    }
   ],
   "source": [
    "# csv 파일 불러와서, text의 특수문자 앞의 공백을 지우기\n",
    "# 특수문자 앞에 공백이 있으면, 토큰화할 때 특수문자가 따로 분리되는 문제가 있음\n",
    "# 특수문자 앞의 공백을 지우고 다시 저장\n",
    "path_list = ['../dataset/dailydialog_table_all.csv']\n",
    "output_path = ['../dataset/dailydialog_table_all_processed.csv']\n",
    "\n",
    "import re\n",
    "\n",
    "# csv파일 불러오기\n",
    "for path, output_path in zip(path_list, output_path):\n",
    "    # dataFrame으로 불러옴\n",
    "    df = pd.read_csv(path)\n",
    "    \n",
    "    for j in range(len(df)):\n",
    "        # 특수문자 앞의 공백을 지움\n",
    "        df['utterance'][j] = re.sub(r'\\s+([.,!?])', r'\\1', df['utterance'][j])\n",
    "        \n",
    "        # cause span도 똑같이 list 속 각 문자열의 특수문자 앞 공백 지움\n",
    "        cause_span = df['cause span'][j]\n",
    "        if type(cause_span) == str:\n",
    "            cause_span = cause_span.split(',')\n",
    "            for i in range(len(cause_span)):\n",
    "                cause_span[i] = re.sub(r'\\s+([.,!?])', r'\\1', cause_span[i])\n",
    "            df['cause span'][j] = ','.join(cause_span)\n",
    "        "
   ]
  },
  {
   "cell_type": "code",
   "execution_count": 24,
   "metadata": {},
   "outputs": [],
   "source": [
    "df.to_csv(output_path, index=False)"
   ]
  },
  {
   "cell_type": "code",
   "execution_count": 23,
   "metadata": {},
   "outputs": [
    {
     "data": {
      "text/html": [
       "<div>\n",
       "<style scoped>\n",
       "    .dataframe tbody tr th:only-of-type {\n",
       "        vertical-align: middle;\n",
       "    }\n",
       "\n",
       "    .dataframe tbody tr th {\n",
       "        vertical-align: top;\n",
       "    }\n",
       "\n",
       "    .dataframe thead th {\n",
       "        text-align: right;\n",
       "    }\n",
       "</style>\n",
       "<table border=\"1\" class=\"dataframe\">\n",
       "  <thead>\n",
       "    <tr style=\"text-align: right;\">\n",
       "      <th></th>\n",
       "      <th>dialog_id</th>\n",
       "      <th>turn</th>\n",
       "      <th>speaker</th>\n",
       "      <th>utterance</th>\n",
       "      <th>emotion</th>\n",
       "      <th>cause turn</th>\n",
       "      <th>cause span</th>\n",
       "      <th>cause_type</th>\n",
       "      <th>explanation</th>\n",
       "    </tr>\n",
       "  </thead>\n",
       "  <tbody>\n",
       "    <tr>\n",
       "      <th>0</th>\n",
       "      <td>tr_4466</td>\n",
       "      <td>1</td>\n",
       "      <td>A</td>\n",
       "      <td>Hey, you wanna see a movie tomorrow?</td>\n",
       "      <td>happy</td>\n",
       "      <td>[1]</td>\n",
       "      <td>['see a movie tomorrow?']</td>\n",
       "      <td>['no-context']</td>\n",
       "      <td>NaN</td>\n",
       "    </tr>\n",
       "    <tr>\n",
       "      <th>1</th>\n",
       "      <td>tr_4466</td>\n",
       "      <td>2</td>\n",
       "      <td>B</td>\n",
       "      <td>Sounds like a good plan. What do you want to see?</td>\n",
       "      <td>happy</td>\n",
       "      <td>[1]</td>\n",
       "      <td>['see a movie tomorrow?']</td>\n",
       "      <td>['inter-personal']</td>\n",
       "      <td>NaN</td>\n",
       "    </tr>\n",
       "    <tr>\n",
       "      <th>2</th>\n",
       "      <td>tr_4466</td>\n",
       "      <td>3</td>\n",
       "      <td>A</td>\n",
       "      <td>How about Legally Blonde.</td>\n",
       "      <td>neutral</td>\n",
       "      <td>NaN</td>\n",
       "      <td>NaN</td>\n",
       "      <td>NaN</td>\n",
       "      <td>NaN</td>\n",
       "    </tr>\n",
       "    <tr>\n",
       "      <th>3</th>\n",
       "      <td>tr_4466</td>\n",
       "      <td>4</td>\n",
       "      <td>B</td>\n",
       "      <td>Ah, my girlfriend wanted to see that movie. I ...</td>\n",
       "      <td>neutral</td>\n",
       "      <td>NaN</td>\n",
       "      <td>NaN</td>\n",
       "      <td>NaN</td>\n",
       "      <td>NaN</td>\n",
       "    </tr>\n",
       "    <tr>\n",
       "      <th>4</th>\n",
       "      <td>tr_4466</td>\n",
       "      <td>5</td>\n",
       "      <td>A</td>\n",
       "      <td>Isn't that a scary movie?</td>\n",
       "      <td>neutral</td>\n",
       "      <td>NaN</td>\n",
       "      <td>NaN</td>\n",
       "      <td>NaN</td>\n",
       "      <td>NaN</td>\n",
       "    </tr>\n",
       "    <tr>\n",
       "      <th>...</th>\n",
       "      <td>...</td>\n",
       "      <td>...</td>\n",
       "      <td>...</td>\n",
       "      <td>...</td>\n",
       "      <td>...</td>\n",
       "      <td>...</td>\n",
       "      <td>...</td>\n",
       "      <td>...</td>\n",
       "      <td>...</td>\n",
       "    </tr>\n",
       "    <tr>\n",
       "      <th>11099</th>\n",
       "      <td>tr_10060</td>\n",
       "      <td>6</td>\n",
       "      <td>B</td>\n",
       "      <td>Yes, of course.</td>\n",
       "      <td>happy</td>\n",
       "      <td>[5]</td>\n",
       "      <td>['Can you give her a message']</td>\n",
       "      <td>['inter-personal']</td>\n",
       "      <td>NaN</td>\n",
       "    </tr>\n",
       "    <tr>\n",
       "      <th>11100</th>\n",
       "      <td>tr_10060</td>\n",
       "      <td>7</td>\n",
       "      <td>A</td>\n",
       "      <td>Please tell her to give Colin a call when she ...</td>\n",
       "      <td>neutral</td>\n",
       "      <td>NaN</td>\n",
       "      <td>NaN</td>\n",
       "      <td>NaN</td>\n",
       "      <td>NaN</td>\n",
       "    </tr>\n",
       "    <tr>\n",
       "      <th>11101</th>\n",
       "      <td>tr_10060</td>\n",
       "      <td>8</td>\n",
       "      <td>B</td>\n",
       "      <td>Sure.</td>\n",
       "      <td>happy</td>\n",
       "      <td>[5, 7]</td>\n",
       "      <td>['Can you give her a message', 'Please tell he...</td>\n",
       "      <td>['inter-personal']</td>\n",
       "      <td>NaN</td>\n",
       "    </tr>\n",
       "    <tr>\n",
       "      <th>11102</th>\n",
       "      <td>tr_10060</td>\n",
       "      <td>9</td>\n",
       "      <td>A</td>\n",
       "      <td>Thank you for your help.</td>\n",
       "      <td>happy</td>\n",
       "      <td>[5, 7, 8]</td>\n",
       "      <td>['Can you give her a message', 'Please tell he...</td>\n",
       "      <td>['hybrid']</td>\n",
       "      <td>NaN</td>\n",
       "    </tr>\n",
       "    <tr>\n",
       "      <th>11103</th>\n",
       "      <td>tr_10060</td>\n",
       "      <td>10</td>\n",
       "      <td>B</td>\n",
       "      <td>It's my pleasure.</td>\n",
       "      <td>happy</td>\n",
       "      <td>[9]</td>\n",
       "      <td>['Thank you for your help.']</td>\n",
       "      <td>['inter-personal']</td>\n",
       "      <td>NaN</td>\n",
       "    </tr>\n",
       "  </tbody>\n",
       "</table>\n",
       "<p>11104 rows × 9 columns</p>\n",
       "</div>"
      ],
      "text/plain": [
       "      dialog_id  turn speaker  \\\n",
       "0       tr_4466     1       A   \n",
       "1       tr_4466     2       B   \n",
       "2       tr_4466     3       A   \n",
       "3       tr_4466     4       B   \n",
       "4       tr_4466     5       A   \n",
       "...         ...   ...     ...   \n",
       "11099  tr_10060     6       B   \n",
       "11100  tr_10060     7       A   \n",
       "11101  tr_10060     8       B   \n",
       "11102  tr_10060     9       A   \n",
       "11103  tr_10060    10       B   \n",
       "\n",
       "                                               utterance  emotion cause turn  \\\n",
       "0                   Hey, you wanna see a movie tomorrow?    happy        [1]   \n",
       "1      Sounds like a good plan. What do you want to see?    happy        [1]   \n",
       "2                              How about Legally Blonde.  neutral        NaN   \n",
       "3      Ah, my girlfriend wanted to see that movie. I ...  neutral        NaN   \n",
       "4                              Isn't that a scary movie?  neutral        NaN   \n",
       "...                                                  ...      ...        ...   \n",
       "11099                                    Yes, of course.    happy        [5]   \n",
       "11100  Please tell her to give Colin a call when she ...  neutral        NaN   \n",
       "11101                                              Sure.    happy     [5, 7]   \n",
       "11102                           Thank you for your help.    happy  [5, 7, 8]   \n",
       "11103                                  It's my pleasure.    happy        [9]   \n",
       "\n",
       "                                              cause span          cause_type  \\\n",
       "0                              ['see a movie tomorrow?']      ['no-context']   \n",
       "1                              ['see a movie tomorrow?']  ['inter-personal']   \n",
       "2                                                    NaN                 NaN   \n",
       "3                                                    NaN                 NaN   \n",
       "4                                                    NaN                 NaN   \n",
       "...                                                  ...                 ...   \n",
       "11099                     ['Can you give her a message']  ['inter-personal']   \n",
       "11100                                                NaN                 NaN   \n",
       "11101  ['Can you give her a message', 'Please tell he...  ['inter-personal']   \n",
       "11102  ['Can you give her a message', 'Please tell he...          ['hybrid']   \n",
       "11103                       ['Thank you for your help.']  ['inter-personal']   \n",
       "\n",
       "      explanation  \n",
       "0             NaN  \n",
       "1             NaN  \n",
       "2             NaN  \n",
       "3             NaN  \n",
       "4             NaN  \n",
       "...           ...  \n",
       "11099         NaN  \n",
       "11100         NaN  \n",
       "11101         NaN  \n",
       "11102         NaN  \n",
       "11103         NaN  \n",
       "\n",
       "[11104 rows x 9 columns]"
      ]
     },
     "execution_count": 23,
     "metadata": {},
     "output_type": "execute_result"
    }
   ],
   "source": [
    "df"
   ]
  },
  {
   "cell_type": "code",
   "execution_count": null,
   "metadata": {},
   "outputs": [],
   "source": []
  }
 ],
 "metadata": {
  "kernelspec": {
   "display_name": "base",
   "language": "python",
   "name": "python3"
  },
  "language_info": {
   "codemirror_mode": {
    "name": "ipython",
    "version": 3
   },
   "file_extension": ".py",
   "mimetype": "text/x-python",
   "name": "python",
   "nbconvert_exporter": "python",
   "pygments_lexer": "ipython3",
   "version": "3.9.13"
  },
  "orig_nbformat": 4
 },
 "nbformat": 4,
 "nbformat_minor": 2
}
